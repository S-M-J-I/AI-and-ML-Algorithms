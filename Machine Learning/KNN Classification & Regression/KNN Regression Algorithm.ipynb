{
 "cells": [
  {
   "cell_type": "code",
   "execution_count": 1,
   "id": "88381c69",
   "metadata": {},
   "outputs": [],
   "source": [
    "import numpy as np"
   ]
  },
  {
   "cell_type": "markdown",
   "id": "e49189b5",
   "metadata": {},
   "source": [
    "## KNN Regression Algorithm"
   ]
  },
  {
   "cell_type": "code",
   "execution_count": 3,
   "id": "39af7ce3",
   "metadata": {},
   "outputs": [
    {
     "data": {
      "text/plain": [
       "array([[ 3.80759064e-02,  5.06801187e-02,  6.16962065e-02,\n",
       "         2.18723550e-02, -4.42234984e-02, -3.48207628e-02,\n",
       "        -4.34008457e-02, -2.59226200e-03,  1.99084209e-02,\n",
       "        -1.76461252e-02,  1.51000000e+02],\n",
       "       [-1.88201653e-03, -4.46416365e-02, -5.14740612e-02,\n",
       "        -2.63278347e-02, -8.44872411e-03, -1.91633397e-02,\n",
       "         7.44115641e-02, -3.94933829e-02, -6.83297436e-02,\n",
       "        -9.22040496e-02,  7.50000000e+01],\n",
       "       [ 8.52989063e-02,  5.06801187e-02,  4.44512133e-02,\n",
       "        -5.67061055e-03, -4.55994513e-02, -3.41944659e-02,\n",
       "        -3.23559322e-02, -2.59226200e-03,  2.86377052e-03,\n",
       "        -2.59303390e-02,  1.41000000e+02],\n",
       "       [-8.90629394e-02, -4.46416365e-02, -1.15950145e-02,\n",
       "        -3.66564468e-02,  1.21905688e-02,  2.49905934e-02,\n",
       "        -3.60375700e-02,  3.43088589e-02,  2.26920226e-02,\n",
       "        -9.36191133e-03,  2.06000000e+02],\n",
       "       [ 5.38306037e-03, -4.46416365e-02, -3.63846922e-02,\n",
       "         2.18723550e-02,  3.93485161e-03,  1.55961395e-02,\n",
       "         8.14208361e-03, -2.59226200e-03, -3.19914449e-02,\n",
       "        -4.66408736e-02,  1.35000000e+02]])"
      ]
     },
     "execution_count": 3,
     "metadata": {},
     "output_type": "execute_result"
    }
   ],
   "source": [
    "data = np.genfromtxt(\"../Dataset/diabetes.csv\", delimiter=',')\n",
    "data[:5]"
   ]
  },
  {
   "cell_type": "code",
   "execution_count": 9,
   "id": "72c4a1a5",
   "metadata": {},
   "outputs": [
    {
     "name": "stdout",
     "output_type": "stream",
     "text": [
      "[[0.0380759064334241, 0.0506801187398187, 0.0616962065186885, 0.0218723549949558, -0.0442234984244464, -0.0348207628376986, -0.0434008456520269, -0.00259226199818282, 0.0199084208763183, -0.0176461251598052, 151.0], [-0.00188201652779104, -0.044641636506989, -0.0514740612388061, -0.0263278347173518, -0.00844872411121698, -0.019163339748222, 0.0744115640787594, -0.0394933828740919, -0.0683297436244215, -0.09220404962683, 75.0], [0.0852989062966783, 0.0506801187398187, 0.0444512133365941, -0.00567061055493425, -0.0455994512826475, -0.0341944659141195, -0.0323559322397657, -0.00259226199818282, 0.00286377051894013, -0.0259303389894746, 141.0], [-0.0890629393522603, -0.044641636506989, -0.0115950145052127, -0.0366564467985606, 0.0121905687618, 0.0249905933641021, -0.0360375700438527, 0.0343088588777263, 0.0226920225667445, -0.0093619113301358, 206.0], [0.00538306037424807, -0.044641636506989, -0.0363846922044735, 0.0218723549949558, 0.00393485161259318, 0.0155961395104161, 0.0081420836051921, -0.00259226199818282, -0.0319914449413559, -0.0466408735636482, 135.0]]\n"
     ]
    }
   ],
   "source": [
    "my_list = data.tolist()\n",
    "print(my_list[:5])"
   ]
  },
  {
   "cell_type": "markdown",
   "id": "d627707e",
   "metadata": {},
   "source": [
    "### Randomize arrangement of data"
   ]
  },
  {
   "cell_type": "code",
   "execution_count": 10,
   "id": "7e708a0b",
   "metadata": {},
   "outputs": [],
   "source": [
    "import random\n",
    "random.shuffle(my_list)"
   ]
  },
  {
   "cell_type": "markdown",
   "id": "d6540ffe",
   "metadata": {},
   "source": [
    "### Split into training, validation, and test"
   ]
  },
  {
   "cell_type": "code",
   "execution_count": 12,
   "id": "76233fcf",
   "metadata": {},
   "outputs": [],
   "source": [
    "train = []\n",
    "test = []\n",
    "valid = []\n",
    "\n",
    "for item in my_list:\n",
    "    test_val = random.uniform(0, 1.0)\n",
    "    if test_val <= 0.7:\n",
    "        train.append(item)\n",
    "    elif test_val <= 0.85:\n",
    "        valid.append(item)\n",
    "    else:\n",
    "        test.append(item)"
   ]
  },
  {
   "cell_type": "code",
   "execution_count": 13,
   "id": "041f533a",
   "metadata": {},
   "outputs": [
    {
     "name": "stdout",
     "output_type": "stream",
     "text": [
      "303 56 83\n"
     ]
    }
   ],
   "source": [
    "print(len(train), len(valid), len(test))"
   ]
  },
  {
   "cell_type": "code",
   "execution_count": 85,
   "id": "cf9369ab",
   "metadata": {},
   "outputs": [],
   "source": [
    "def KNNRegression(test,valid,k=5):\n",
    "    error=0\n",
    "    distances = []\n",
    "    for validation in valid:\n",
    "        for training in train:\n",
    "            euclidean = sum([(p-q) ** 2 for p, q in zip(validation[:-1], training[:-1])])\n",
    "            distances.append((euclidean, training))\n",
    "        distances.sort(key = lambda item: item[0])\n",
    "        samples = distances[:k]\n",
    "        \n",
    "        for sample in samples:\n",
    "            data = sample[1]\n",
    "            data = data[-1:]\n",
    "            data.append(data[0])\n",
    "        \n",
    "        avg_o = sum(data)/k\n",
    "        \n",
    "        error += ((validation[-1:][0] - avg_o)**2)\n",
    "        \n",
    "        distances = []\n",
    "        samples = []\n",
    "    \n",
    "    return error / len(valid)"
   ]
  },
  {
   "cell_type": "code",
   "execution_count": 86,
   "id": "23c0d4c3",
   "metadata": {},
   "outputs": [
    {
     "data": {
      "text/plain": [
       "11971.634285714284"
      ]
     },
     "execution_count": 86,
     "metadata": {},
     "output_type": "execute_result"
    }
   ],
   "source": [
    "KNNRegression(train, valid)"
   ]
  },
  {
   "cell_type": "code",
   "execution_count": 87,
   "id": "66c4454e",
   "metadata": {},
   "outputs": [
    {
     "name": "stdout",
     "output_type": "stream",
     "text": [
      "1 = 43348.42857142857\n",
      "3 = 8647.01587301587\n",
      "5 = 11971.634285714284\n",
      "7 = 14279.064139941689\n",
      "9 = 17245.623456790134\n",
      "11 = 18713.74852420307\n",
      "13 = 20838.634404057473\n",
      "15 = 20755.008888888897\n",
      "17 = 21452.377656945137\n",
      "19 = 21983.880292837355\n",
      "21 = 22260.80644638808\n",
      "23 = 22482.89819065623\n",
      "25 = 22624.28377142857\n",
      "27 = 23176.65167548501\n",
      "29 = 23390.479106505856\n",
      "31 = 23695.03909617957\n",
      "33 = 23758.642660369933\n",
      "35 = 23647.752594752183\n",
      "37 = 23886.463946572057\n",
      "39 = 24166.05898375129\n",
      "41 = 24328.71267102915\n",
      "43 = 24355.198137989646\n",
      "45 = 24320.813932980593\n",
      "47 = 24300.79079092026\n",
      "49 = 24529.552775629196\n",
      "51 = 24691.43609600703\n",
      "53 = 24544.86500025427\n",
      "55 = 24836.24852420307\n",
      "57 = 24606.570593149543\n",
      "59 = 24683.31831985882\n",
      "61 = 24697.100433831143\n",
      "63 = 24866.101752870465\n",
      "65 = 24937.35038038884\n",
      "67 = 24894.964436877453\n",
      "69 = 25163.712335343713\n",
      "71 = 25092.871666619434\n",
      "73 = 24873.198670348233\n",
      "75 = 25036.699022222223\n",
      "77 = 25139.031226658328\n",
      "79 = 25176.791196465765\n",
      "81 = 25143.449256428685\n",
      "83 = 25239.806243908522\n",
      "85 = 25266.42131487888\n",
      "87 = 25254.219985655775\n",
      "89 = 25279.865258715534\n",
      "91 = 25221.713630168884\n",
      "93 = 25174.7371289827\n",
      "95 = 25383.05842500989\n",
      "97 = 25252.32546346204\n",
      "99 = 25341.63983267014\n"
     ]
    }
   ],
   "source": [
    "for i in range(1,100,2):\n",
    "    print(f\"{i} = {KNNRegression(train, valid, k=i)}\")"
   ]
  },
  {
   "cell_type": "code",
   "execution_count": 88,
   "id": "b01f3711",
   "metadata": {},
   "outputs": [
    {
     "name": "stdout",
     "output_type": "stream",
     "text": [
      "9727.194109772421\n"
     ]
    }
   ],
   "source": [
    "print(KNNRegression(train,test,k=3))"
   ]
  },
  {
   "cell_type": "markdown",
   "id": "f3e73312",
   "metadata": {},
   "source": [
    "### Minimum mean square error happens when K = 3\n",
    "### K = 3 gives 9727.19... for test set"
   ]
  },
  {
   "cell_type": "code",
   "execution_count": null,
   "id": "7c7c628b",
   "metadata": {},
   "outputs": [],
   "source": []
  }
 ],
 "metadata": {
  "kernelspec": {
   "display_name": "Python 3 (ipykernel)",
   "language": "python",
   "name": "python3"
  },
  "language_info": {
   "codemirror_mode": {
    "name": "ipython",
    "version": 3
   },
   "file_extension": ".py",
   "mimetype": "text/x-python",
   "name": "python",
   "nbconvert_exporter": "python",
   "pygments_lexer": "ipython3",
   "version": "3.9.12"
  }
 },
 "nbformat": 4,
 "nbformat_minor": 5
}
