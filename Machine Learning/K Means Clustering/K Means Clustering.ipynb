{
 "cells": [
  {
   "cell_type": "code",
   "execution_count": 197,
   "id": "b5aaade7",
   "metadata": {},
   "outputs": [],
   "source": [
    "import numpy as np"
   ]
  },
  {
   "cell_type": "markdown",
   "id": "861ec9d5",
   "metadata": {},
   "source": [
    "## K Means Clustering"
   ]
  },
  {
   "cell_type": "markdown",
   "id": "66a88062",
   "metadata": {},
   "source": [
    "Algorithm:\n",
    "- select K to determine number of clusters\n",
    "- select random K points or Centroids(cluster centers)\n",
    "- Assign each data point to closest centroid, which will form K clusters\n",
    "- Calculate **Variance** and place a new centroid of each cluster\n",
    "    - higher variance means lower accuracy\n",
    "    - lower variance means higher accuracy\n",
    "- repeat step 3\n",
    "- if a point is reassigned to another cluster, goto step 4 else **FINISH**"
   ]
  },
  {
   "cell_type": "markdown",
   "id": "fcf4421c",
   "metadata": {},
   "source": [
    "Iris Dataset:\n",
    "\n",
    "**sepal_length**: Contains length of Sepal\n",
    "\n",
    "**sepal_width**: Contains width of Sepal\n",
    "\n",
    "**petal_length**: Contains length of Petal\n",
    "\n",
    "**petal_width**: Contains width of Petal"
   ]
  },
  {
   "cell_type": "markdown",
   "id": "6bc01f17",
   "metadata": {},
   "source": [
    "Let's work with only two features"
   ]
  },
  {
   "cell_type": "code",
   "execution_count": 198,
   "id": "6d608ba7",
   "metadata": {},
   "outputs": [
    {
     "data": {
      "text/plain": [
       "array([[5.1, 3.5],\n",
       "       [4.9, 3. ],\n",
       "       [4.7, 3.2],\n",
       "       [4.6, 3.1],\n",
       "       [5. , 3.6],\n",
       "       [5.4, 3.9],\n",
       "       [4.6, 3.4],\n",
       "       [5. , 3.4],\n",
       "       [4.4, 2.9],\n",
       "       [4.9, 3.1]])"
      ]
     },
     "execution_count": 198,
     "metadata": {},
     "output_type": "execute_result"
    }
   ],
   "source": [
    "data = np.genfromtxt(\"iris-dataset.csv\", delimiter=',')\n",
    "data = data[1:, :2]\n",
    "data[:10]"
   ]
  },
  {
   "cell_type": "code",
   "execution_count": 199,
   "id": "5fe3fc01",
   "metadata": {},
   "outputs": [],
   "source": [
    "my_list = data.tolist()"
   ]
  },
  {
   "cell_type": "code",
   "execution_count": 200,
   "id": "52879000",
   "metadata": {},
   "outputs": [],
   "source": [
    "import random\n",
    "random.shuffle(my_list)"
   ]
  },
  {
   "cell_type": "code",
   "execution_count": 201,
   "id": "4f590f0d",
   "metadata": {},
   "outputs": [
    {
     "data": {
      "text/plain": [
       "[[5.5, 2.4],\n",
       " [5.4, 3.9],\n",
       " [6.9, 3.2],\n",
       " [6.3, 2.5],\n",
       " [6.9, 3.1],\n",
       " [6.6, 3.0],\n",
       " [6.1, 2.8],\n",
       " [6.9, 3.1],\n",
       " [6.1, 2.8],\n",
       " [7.7, 2.6]]"
      ]
     },
     "execution_count": 201,
     "metadata": {},
     "output_type": "execute_result"
    }
   ],
   "source": [
    "my_list[:10]"
   ]
  },
  {
   "cell_type": "markdown",
   "id": "1943ce08",
   "metadata": {},
   "source": [
    "#### Function to generate centroids:\n",
    "\n",
    "- within a range of the len of the dataset, generate a random integer\n",
    "    - this will be our initial rand centroid index from dataset\n",
    "- take an empty centroids list and put the dataset values according to their indexes which were randomly generated\n",
    "- return the centroids list"
   ]
  },
  {
   "cell_type": "code",
   "execution_count": 202,
   "id": "172a7aa7",
   "metadata": {},
   "outputs": [],
   "source": [
    "def generate_centroids(x, K):\n",
    "    rand_idx = [np.random.randint(len(x)) for i in range(K)]\n",
    "    centroids = [x[i] for i in rand_idx]\n",
    "    return centroids"
   ]
  },
  {
   "cell_type": "markdown",
   "id": "48192d3c",
   "metadata": {},
   "source": [
    "#### Function to assign clusters\n",
    "\n",
    "- define a cluster 2d list. there should be K rows to differentiate each cluster\n",
    "- calculate the euclidean distances of the point to each centroid\n",
    "- pick the index of the minimum distance\n",
    "- assign the data point to the row with the index that matches the minimum index\n",
    "- return the cluster"
   ]
  },
  {
   "cell_type": "code",
   "execution_count": 203,
   "id": "65b6802a",
   "metadata": {},
   "outputs": [],
   "source": [
    "def assign_cluster(x, centroids, K):\n",
    "    cluster = [[] for i in range(K)]\n",
    "    \n",
    "    for i in range(len(x)):\n",
    "        euclidean_distances = []\n",
    "        \n",
    "        for j in range(K):\n",
    "            euclidean_distances.append(np.linalg.norm(np.subtract(x[i], centroids[j])))\n",
    "        min_idx = np.argmin(euclidean_distances)\n",
    "        cluster[min_idx].append(x[i])\n",
    "    return cluster"
   ]
  },
  {
   "cell_type": "markdown",
   "id": "155470cd",
   "metadata": {},
   "source": [
    "#### Function to update centroid\n",
    "\n",
    "- take the mean of each K clusters and assign them in the list\n",
    "- the index of the data point in the centroids list represent the cluster number it is the centroid of "
   ]
  },
  {
   "cell_type": "code",
   "execution_count": 204,
   "id": "234706d7",
   "metadata": {},
   "outputs": [],
   "source": [
    "def update_centroid(x,clusters,K):\n",
    "    centroids = [np.mean(clusters[i], axis = 0) for i in range(K)]\n",
    "    return centroids"
   ]
  },
  {
   "cell_type": "markdown",
   "id": "3e8e73c0",
   "metadata": {},
   "source": [
    "### K Means:\n",
    "\n",
    "- generate random centroid points\n",
    "- assign clusters with the generated random centroid points\n",
    "- keep the assigned clusters to a saved variable\n",
    "- find out new centroids and clusters\n",
    "- if the clusters changed, then repeat the steps of finding centroids and clusters again\n",
    "- if it didn't finish the algorithm"
   ]
  },
  {
   "cell_type": "code",
   "execution_count": 277,
   "id": "d9cb1860",
   "metadata": {},
   "outputs": [],
   "source": [
    "def Kmeans(x, K=2):\n",
    "#     K random centroids\n",
    "    centroids = generate_centroids(x, K)\n",
    "    cluster = assign_cluster(x, centroids, K)\n",
    "    \n",
    "    while True:\n",
    "        init_cluster = cluster\n",
    "        centroids = update_centroid(x, cluster, K)\n",
    "        cluster = assign_cluster(x, centroids, K)\n",
    "        if np.array_equal(np.asarray(cluster), (np.asarray(init_cluster))):\n",
    "            break\n",
    "            \n",
    "    return cluster, centroids"
   ]
  },
  {
   "cell_type": "code",
   "execution_count": 278,
   "id": "94feb0f4",
   "metadata": {},
   "outputs": [
    {
     "name": "stderr",
     "output_type": "stream",
     "text": [
      "C:\\Users\\USER\\AppData\\Local\\Temp\\ipykernel_21796\\1149097970.py:10: VisibleDeprecationWarning: Creating an ndarray from ragged nested sequences (which is a list-or-tuple of lists-or-tuples-or ndarrays with different lengths or shapes) is deprecated. If you meant to do this, you must specify 'dtype=object' when creating the ndarray.\n",
      "  if np.array_equal(np.asarray(cluster), (np.asarray(init_cluster))):\n"
     ]
    }
   ],
   "source": [
    "K = 3\n",
    "cluster, centroids = Kmeans(my_list, K)"
   ]
  },
  {
   "cell_type": "code",
   "execution_count": 279,
   "id": "0a35fd81",
   "metadata": {},
   "outputs": [
    {
     "data": {
      "text/plain": [
       "[[[5.4, 3.9],\n",
       "  [5.0, 3.5],\n",
       "  [5.4, 3.9],\n",
       "  [4.9, 3.1],\n",
       "  [5.0, 3.0],\n",
       "  [5.0, 3.4],\n",
       "  [5.2, 3.4],\n",
       "  [5.8, 4.0],\n",
       "  [4.8, 3.4],\n",
       "  [5.2, 3.5],\n",
       "  [5.4, 3.7],\n",
       "  [4.6, 3.4],\n",
       "  [4.8, 3.0],\n",
       "  [4.6, 3.2],\n",
       "  [5.3, 3.7],\n",
       "  [4.5, 2.3],\n",
       "  [5.0, 3.3],\n",
       "  [5.1, 3.4],\n",
       "  [5.0, 3.4],\n",
       "  [5.1, 3.3],\n",
       "  [4.8, 3.0],\n",
       "  [5.1, 3.8],\n",
       "  [5.0, 3.6],\n",
       "  [4.6, 3.6],\n",
       "  [4.4, 2.9],\n",
       "  [4.7, 3.2],\n",
       "  [5.0, 3.5],\n",
       "  [5.4, 3.4],\n",
       "  [5.7, 4.4],\n",
       "  [4.4, 3.0],\n",
       "  [5.1, 3.7],\n",
       "  [4.4, 3.2],\n",
       "  [4.6, 3.1],\n",
       "  [4.9, 3.1],\n",
       "  [4.8, 3.4],\n",
       "  [5.5, 4.2],\n",
       "  [4.8, 3.1],\n",
       "  [4.3, 3.0],\n",
       "  [4.9, 3.0],\n",
       "  [5.2, 4.1],\n",
       "  [5.1, 3.5],\n",
       "  [5.4, 3.4],\n",
       "  [4.7, 3.2],\n",
       "  [5.1, 3.8],\n",
       "  [5.1, 3.5],\n",
       "  [5.7, 3.8],\n",
       "  [5.1, 3.8],\n",
       "  [4.9, 3.1],\n",
       "  [5.5, 3.5],\n",
       "  [5.0, 3.2]],\n",
       " [[5.5, 2.4],\n",
       "  [6.3, 2.5],\n",
       "  [6.1, 2.8],\n",
       "  [6.1, 2.8],\n",
       "  [6.0, 2.2],\n",
       "  [5.6, 2.7],\n",
       "  [5.5, 2.3],\n",
       "  [5.0, 2.3],\n",
       "  [5.8, 2.8],\n",
       "  [5.7, 3.0],\n",
       "  [5.7, 2.6],\n",
       "  [6.0, 2.7],\n",
       "  [6.1, 2.9],\n",
       "  [4.9, 2.4],\n",
       "  [5.6, 2.5],\n",
       "  [5.2, 2.7],\n",
       "  [5.9, 3.2],\n",
       "  [5.8, 2.7],\n",
       "  [6.1, 3.0],\n",
       "  [6.1, 2.6],\n",
       "  [5.0, 2.0],\n",
       "  [6.3, 2.7],\n",
       "  [5.6, 3.0],\n",
       "  [6.1, 3.0],\n",
       "  [5.6, 2.9],\n",
       "  [6.0, 3.0],\n",
       "  [6.0, 2.9],\n",
       "  [5.9, 3.0],\n",
       "  [5.4, 3.0],\n",
       "  [6.0, 2.2],\n",
       "  [6.2, 2.8],\n",
       "  [5.1, 2.5],\n",
       "  [6.2, 2.2],\n",
       "  [5.8, 2.7],\n",
       "  [4.9, 2.5],\n",
       "  [5.5, 2.6],\n",
       "  [5.5, 2.5],\n",
       "  [5.9, 3.0],\n",
       "  [6.3, 2.3],\n",
       "  [5.8, 2.7],\n",
       "  [6.3, 2.5],\n",
       "  [5.5, 2.4],\n",
       "  [5.7, 2.8],\n",
       "  [6.0, 3.4],\n",
       "  [5.6, 2.8],\n",
       "  [5.7, 2.5],\n",
       "  [6.3, 2.8],\n",
       "  [5.7, 2.9],\n",
       "  [5.8, 2.7],\n",
       "  [6.2, 2.9],\n",
       "  [5.6, 3.0],\n",
       "  [5.8, 2.6],\n",
       "  [5.7, 2.8]],\n",
       " [[6.9, 3.2],\n",
       "  [6.9, 3.1],\n",
       "  [6.6, 3.0],\n",
       "  [6.9, 3.1],\n",
       "  [7.7, 2.6],\n",
       "  [7.7, 3.8],\n",
       "  [7.2, 3.0],\n",
       "  [6.4, 3.2],\n",
       "  [6.3, 3.3],\n",
       "  [6.5, 3.2],\n",
       "  [7.2, 3.6],\n",
       "  [6.7, 3.0],\n",
       "  [7.7, 3.0],\n",
       "  [6.5, 2.8],\n",
       "  [6.8, 3.0],\n",
       "  [7.9, 3.8],\n",
       "  [6.5, 3.0],\n",
       "  [6.2, 3.4],\n",
       "  [6.3, 2.9],\n",
       "  [7.0, 3.2],\n",
       "  [6.7, 2.5],\n",
       "  [6.4, 3.1],\n",
       "  [6.8, 3.2],\n",
       "  [6.9, 3.1],\n",
       "  [7.3, 2.9],\n",
       "  [6.7, 3.1],\n",
       "  [7.4, 2.8],\n",
       "  [7.1, 3.0],\n",
       "  [6.3, 3.4],\n",
       "  [6.7, 3.1],\n",
       "  [6.7, 3.3],\n",
       "  [6.8, 2.8],\n",
       "  [7.7, 2.8],\n",
       "  [6.5, 3.0],\n",
       "  [6.7, 3.3],\n",
       "  [7.2, 3.2],\n",
       "  [6.6, 2.9],\n",
       "  [7.6, 3.0],\n",
       "  [6.3, 3.3],\n",
       "  [6.4, 2.8],\n",
       "  [6.5, 3.0],\n",
       "  [6.4, 2.8],\n",
       "  [6.4, 2.9],\n",
       "  [6.7, 3.1],\n",
       "  [6.7, 3.0],\n",
       "  [6.4, 3.2],\n",
       "  [6.4, 2.7]]]"
      ]
     },
     "execution_count": 279,
     "metadata": {},
     "output_type": "execute_result"
    }
   ],
   "source": [
    "cluster"
   ]
  },
  {
   "cell_type": "code",
   "execution_count": 280,
   "id": "b9530111",
   "metadata": {},
   "outputs": [
    {
     "data": {
      "text/plain": [
       "[array([5.006, 3.418]),\n",
       " array([5.77358491, 2.69245283]),\n",
       " array([6.81276596, 3.07446809])]"
      ]
     },
     "execution_count": 280,
     "metadata": {},
     "output_type": "execute_result"
    }
   ],
   "source": [
    "centroids"
   ]
  },
  {
   "cell_type": "code",
   "execution_count": 209,
   "id": "dbc10f31",
   "metadata": {},
   "outputs": [],
   "source": [
    "import matplotlib.pyplot as plt\n",
    "from mpl_toolkits.mplot3d import Axes3D"
   ]
  },
  {
   "cell_type": "code",
   "execution_count": 210,
   "id": "1975892e",
   "metadata": {},
   "outputs": [
    {
     "data": {
      "image/png": "[encoded data removed]",
      "text/plain": [
       "<Figure size 504x504 with 1 Axes>"
      ]
     },
     "metadata": {
      "needs_background": "light"
     },
     "output_type": "display_data"
    }
   ],
   "source": [
    "plt.figure(figsize=(7,7))\n",
    "for i in range(len(my_list)):\n",
    "        plt.scatter(my_list[i][0], my_list[i][1],color='k')"
   ]
  },
  {
   "cell_type": "code",
   "execution_count": 211,
   "id": "fcb66e2a",
   "metadata": {},
   "outputs": [],
   "source": [
    "def plot_clusters(cluster, centroids, K):\n",
    "    plt.figure(figsize=(7,7))\n",
    "    colors = [\"r\",\"g\",\"b\",\"c\",\"y\",\"k\",\"orange\",\"limegreen\"]\n",
    "    for j in range(K):\n",
    "        for i in range(len(cluster[j])):\n",
    "            plt.scatter(cluster[j][i][0], cluster[j][i][1], color=colors[j])\n",
    "        x_center = centroids[j][0]\n",
    "        y_center = centroids[j][1]\n",
    "        plt.plot(x_center, y_center, '*', color=colors[j], ms=12)"
   ]
  },
  {
   "cell_type": "code",
   "execution_count": 281,
   "id": "e99ad39a",
   "metadata": {},
   "outputs": [
    {
     "data": {
      "image/png": "[encoded data removed]",
      "text/plain": [
       "<Figure size 504x504 with 1 Axes>"
      ]
     },
     "metadata": {
      "needs_background": "light"
     },
     "output_type": "display_data"
    }
   ],
   "source": [
    "plot_clusters(cluster, centroids, K)"
   ]
  },
  {
   "cell_type": "code",
   "execution_count": 213,
   "id": "31d2deec",
   "metadata": {},
   "outputs": [],
   "source": [
    "def calc_sse(cluster, centroids, k):\n",
    "    sse = 0\n",
    "    for i in range(k):\n",
    "        for j in range(len(cluster[i])):\n",
    "            sse += np.linalg.norm(np.subtract(cluster[i][j], centroids[i])) ** 2\n",
    "    return sse"
   ]
  },
  {
   "cell_type": "code",
   "execution_count": 261,
   "id": "fd224dbe",
   "metadata": {},
   "outputs": [],
   "source": [
    "def see_algo_performance(x, epoch):\n",
    "    K = []\n",
    "    sses = []\n",
    "    for k in range(2, epoch+1):\n",
    "        clusters, centroids = Kmeans(x, k)\n",
    "        \n",
    "        sse = calc_sse(clusters, centroids, k)\n",
    "        K.append(k)\n",
    "        sses.append(sse)\n",
    "    fig = plt.figure(figsize=(7,7))\n",
    "    ax = fig.add_subplot()\n",
    "    ax.set_title(\"Performance of K Means\")\n",
    "    ax.set_xlabel(\"Clusters (K)\")\n",
    "    ax.set_ylabel(\"Sum Squared Error (SSE)\")\n",
    "    ax.plot(K, sses)\n",
    "    plt.show();"
   ]
  },
  {
   "cell_type": "code",
   "execution_count": 286,
   "id": "3635000c",
   "metadata": {},
   "outputs": [
    {
     "name": "stderr",
     "output_type": "stream",
     "text": [
      "C:\\Users\\USER\\AppData\\Local\\Temp\\ipykernel_21796\\1149097970.py:10: VisibleDeprecationWarning: Creating an ndarray from ragged nested sequences (which is a list-or-tuple of lists-or-tuples-or ndarrays with different lengths or shapes) is deprecated. If you meant to do this, you must specify 'dtype=object' when creating the ndarray.\n",
      "  if np.array_equal(np.asarray(cluster), (np.asarray(init_cluster))):\n"
     ]
    },
    {
     "data": {
      "image/png": "[encoded data removed]",
      "text/plain": [
       "<Figure size 504x504 with 1 Axes>"
      ]
     },
     "metadata": {
      "needs_background": "light"
     },
     "output_type": "display_data"
    }
   ],
   "source": [
    "see_algo_performance(my_list, 8)"
   ]
  },
  {
   "cell_type": "markdown",
   "id": "af26e8a6",
   "metadata": {},
   "source": [
    "### Our SSE decreases as the number of clusters increase. Hence, the K means algorithm works"
   ]
  }
 ],
 "metadata": {
  "kernelspec": {
   "display_name": "Python 3 (ipykernel)",
   "language": "python",
   "name": "python3"
  },
  "language_info": {
   "codemirror_mode": {
    "name": "ipython",
    "version": 3
   },
   "file_extension": ".py",
   "mimetype": "text/x-python",
   "name": "python",
   "nbconvert_exporter": "python",
   "pygments_lexer": "ipython3",
   "version": "3.9.12"
  }
 },
 "nbformat": 4,
 "nbformat_minor": 5
}
