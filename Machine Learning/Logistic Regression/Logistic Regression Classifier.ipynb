{
 "cells": [
  {
   "cell_type": "markdown",
   "id": "5f9b8599",
   "metadata": {},
   "source": [
    "## Logistic Regression"
   ]
  },
  {
   "cell_type": "code",
   "execution_count": 179,
   "id": "a71be855",
   "metadata": {},
   "outputs": [],
   "source": [
    "import numpy as np\n",
    "import matplotlib.pyplot as plt\n",
    "import random as rd"
   ]
  },
  {
   "cell_type": "code",
   "execution_count": 180,
   "id": "6fc0a724",
   "metadata": {},
   "outputs": [],
   "source": [
    "from sklearn import datasets\n",
    "import numpy as np\n",
    "iris = datasets.load_iris()"
   ]
  },
  {
   "cell_type": "code",
   "execution_count": 181,
   "id": "c3043995",
   "metadata": {},
   "outputs": [],
   "source": [
    "my_data = np.concatenate((iris[\"data\"],np.array([iris[\"target\"]]).T),axis=1)\n",
    "np.random.shuffle(my_data)"
   ]
  },
  {
   "cell_type": "code",
   "execution_count": 182,
   "id": "e604b9b9",
   "metadata": {},
   "outputs": [],
   "source": [
    "x = my_data[:, :-1]\n",
    "y = (my_data[:,-1] != 0) * 1"
   ]
  },
  {
   "cell_type": "code",
   "execution_count": 183,
   "id": "5222a076",
   "metadata": {},
   "outputs": [
    {
     "data": {
      "text/plain": [
       "array([[5.5, 3.5, 1.3, 0.2]])"
      ]
     },
     "execution_count": 183,
     "metadata": {},
     "output_type": "execute_result"
    }
   ],
   "source": [
    "x[:1]"
   ]
  },
  {
   "cell_type": "code",
   "execution_count": 184,
   "id": "4891ff1a",
   "metadata": {},
   "outputs": [
    {
     "data": {
      "text/plain": [
       "array([0, 0, 1, 0, 0])"
      ]
     },
     "execution_count": 184,
     "metadata": {},
     "output_type": "execute_result"
    }
   ],
   "source": [
    "y[:5]"
   ]
  },
  {
   "cell_type": "code",
   "execution_count": 185,
   "id": "947d4c58",
   "metadata": {},
   "outputs": [],
   "source": [
    "train_data = []\n",
    "train_labels = []\n",
    "test_data = []\n",
    "test_labels = []\n",
    "validation_data = []\n",
    "validation_labels = []"
   ]
  },
  {
   "cell_type": "code",
   "execution_count": 186,
   "id": "b3046a49",
   "metadata": {},
   "outputs": [],
   "source": [
    "for i, sample in enumerate(x):\n",
    "    rand = rd.uniform(0,1)\n",
    "    if rand < 0.7:\n",
    "        train_data.append(np.concatenate(([1],sample)))\n",
    "        train_labels.append(y[i])\n",
    "    elif rand < 0.85:\n",
    "        validation_data.append(np.concatenate(([1],sample)))\n",
    "        validation_labels.append(y[i])\n",
    "    else:\n",
    "        test_data.append(np.concatenate(([1],sample)))\n",
    "        test_labels.append(y[i])"
   ]
  },
  {
   "cell_type": "code",
   "execution_count": 187,
   "id": "1a45d1c6",
   "metadata": {},
   "outputs": [
    {
     "data": {
      "text/plain": [
       "[array([1. , 4.4, 2.9, 1.4, 0.2]),\n",
       " array([1. , 4.8, 3. , 1.4, 0.3]),\n",
       " array([1. , 6.7, 3.3, 5.7, 2.5]),\n",
       " array([1. , 6.4, 3.2, 5.3, 2.3]),\n",
       " array([1. , 6.4, 2.7, 5.3, 1.9])]"
      ]
     },
     "execution_count": 187,
     "metadata": {},
     "output_type": "execute_result"
    }
   ],
   "source": [
    "train_data[:5]"
   ]
  },
  {
   "cell_type": "code",
   "execution_count": 188,
   "id": "f29ee748",
   "metadata": {},
   "outputs": [
    {
     "data": {
      "text/plain": [
       "[0, 0, 1, 1, 1]"
      ]
     },
     "execution_count": 188,
     "metadata": {},
     "output_type": "execute_result"
    }
   ],
   "source": [
    "train_labels[:5]"
   ]
  },
  {
   "cell_type": "code",
   "execution_count": 189,
   "id": "f0813860",
   "metadata": {},
   "outputs": [
    {
     "data": {
      "text/plain": [
       "(106, 106)"
      ]
     },
     "execution_count": 189,
     "metadata": {},
     "output_type": "execute_result"
    }
   ],
   "source": [
    "len(train_data), len(train_labels)"
   ]
  },
  {
   "cell_type": "code",
   "execution_count": 190,
   "id": "88e5a1e7",
   "metadata": {},
   "outputs": [
    {
     "data": {
      "text/plain": [
       "(19, 19)"
      ]
     },
     "execution_count": 190,
     "metadata": {},
     "output_type": "execute_result"
    }
   ],
   "source": [
    "len(validation_data), len(validation_labels)"
   ]
  },
  {
   "cell_type": "code",
   "execution_count": 191,
   "id": "7dc77c50",
   "metadata": {
    "scrolled": true
   },
   "outputs": [
    {
     "data": {
      "text/plain": [
       "(25, 25)"
      ]
     },
     "execution_count": 191,
     "metadata": {},
     "output_type": "execute_result"
    }
   ],
   "source": [
    "len(test_data), len(test_labels)"
   ]
  },
  {
   "cell_type": "code",
   "execution_count": 192,
   "id": "517a4ef0",
   "metadata": {},
   "outputs": [],
   "source": [
    "def sigmoid(z):\n",
    "    return 1/(1+np.exp(-z))"
   ]
  },
  {
   "cell_type": "code",
   "execution_count": 193,
   "id": "8814ffbf",
   "metadata": {},
   "outputs": [],
   "source": [
    "def training(S, y, theta, epoch, l_r):\n",
    "    train_loss = []\n",
    "    for i in range(epoch):\n",
    "        TJ = 0\n",
    "        for j in range(len(S)):\n",
    "            z = np.dot(theta, S[j])\n",
    "            h = sigmoid(z)\n",
    "            J = (-y[j] * np.log(h)) - ((1-y[j]) * np.log(1-h))\n",
    "            TJ += J\n",
    "            dv = np.dot(S[j], (h-y[j]))\n",
    "            theta = theta - dv * l_r\n",
    "        TJ /= len(S)\n",
    "        train_loss.append(TJ)\n",
    "        if i % epoch == 0:\n",
    "            print(f'epoch: {i} total_error: {TJ}')\n",
    "    return theta, train_loss"
   ]
  },
  {
   "cell_type": "code",
   "execution_count": 194,
   "id": "cd019830",
   "metadata": {},
   "outputs": [],
   "source": [
    "def prediction(S,theta):\n",
    "    return [1 if sigmoid(np.dot(theta, x)) > 0.5 else 0 for x in S]"
   ]
  },
  {
   "cell_type": "code",
   "execution_count": 195,
   "id": "ef7c627e",
   "metadata": {},
   "outputs": [],
   "source": [
    "def get_acc(S,y,theta):\n",
    "    predict_labels = prediction(S, theta)\n",
    "    results = [1 if predict_labels[i] == y[i] else 0 for i in range(len(y))]\n",
    "    acc = sum(results)/len(results)\n",
    "    return acc"
   ]
  },
  {
   "cell_type": "code",
   "execution_count": 196,
   "id": "c273deff",
   "metadata": {},
   "outputs": [],
   "source": [
    "def get_best(train_data, train_labels,  validation_data, validation_labels, theta):\n",
    "    weights, train_loss = training(train_data,train_labels,theta,1000,0.1)\n",
    "    weights1, train_loss1 = training(train_data,train_labels,theta,1000,0.01)\n",
    "    weights2, train_loss2 = training(train_data,train_labels,theta,1000,0.001)\n",
    "    total_acc = get_acc(validation_data,validation_labels,weights)\n",
    "    total_acc1 = get_acc(validation_data,validation_labels,weights1)\n",
    "    total_acc2 = get_acc(validation_data,validation_labels,weights2)\n",
    "    return (weights, train_loss, train_loss1, train_loss2) if total_acc<total_acc1 and total_acc < total_acc2 else (weights1, train_loss, train_loss1, train_loss2) if total_acc1<total_acc2 and total_acc1 < total_acc else (weights2, train_loss, train_loss1, train_loss2)"
   ]
  },
  {
   "cell_type": "code",
   "execution_count": 197,
   "id": "8489a135",
   "metadata": {},
   "outputs": [],
   "source": [
    "theta = np.random.rand(len(train_data[0]))"
   ]
  },
  {
   "cell_type": "code",
   "execution_count": 198,
   "id": "9a492b10",
   "metadata": {},
   "outputs": [
    {
     "name": "stdout",
     "output_type": "stream",
     "text": [
      "epoch: 0 total_error: 0.2712788413939017\n",
      "epoch: 0 total_error: 0.8461546102527645\n",
      "epoch: 0 total_error: 1.9885781088525905\n",
      "Total Test Accuracy: 1.0\n"
     ]
    }
   ],
   "source": [
    "weights,train_loss,train_loss2,train_loss3 = get_best(train_data,train_labels, validation_data, validation_labels, theta)\n",
    "total_acc = get_acc(test_data,test_labels,weights)\n",
    "print(f\"Total Test Accuracy: {total_acc}\")"
   ]
  },
  {
   "cell_type": "code",
   "execution_count": 199,
   "id": "73da92d7",
   "metadata": {},
   "outputs": [
    {
     "name": "stdout",
     "output_type": "stream",
     "text": [
      "1.0\n"
     ]
    }
   ],
   "source": [
    "print(get_acc(test_data, test_labels, weights))"
   ]
  },
  {
   "cell_type": "code",
   "execution_count": 200,
   "id": "b69d9225",
   "metadata": {
    "scrolled": true
   },
   "outputs": [
    {
     "data": {
      "image/png": "[encoded data removed]",
      "text/plain": [
       "<Figure size 432x288 with 1 Axes>"
      ]
     },
     "metadata": {
      "needs_background": "light"
     },
     "output_type": "display_data"
    }
   ],
   "source": [
    "plt.plot([x for x in range(1,1001)], np.array(train_loss));"
   ]
  },
  {
   "cell_type": "code",
   "execution_count": 201,
   "id": "b757d31e",
   "metadata": {},
   "outputs": [
    {
     "data": {
      "image/png": "[encoded data removed]",
      "text/plain": [
       "<Figure size 432x288 with 1 Axes>"
      ]
     },
     "metadata": {
      "needs_background": "light"
     },
     "output_type": "display_data"
    }
   ],
   "source": [
    "plt.plot([x for x in range(1,1001)], np.array(train_loss2));"
   ]
  },
  {
   "cell_type": "code",
   "execution_count": 202,
   "id": "aac21c38",
   "metadata": {},
   "outputs": [
    {
     "data": {
      "image/png": "[encoded data removed]",
      "text/plain": [
       "<Figure size 432x288 with 1 Axes>"
      ]
     },
     "metadata": {
      "needs_background": "light"
     },
     "output_type": "display_data"
    }
   ],
   "source": [
    "plt.plot([x for x in range(1,1001)], np.array(train_loss3));"
   ]
  },
  {
   "cell_type": "code",
   "execution_count": null,
   "id": "266189f5",
   "metadata": {},
   "outputs": [],
   "source": []
  }
 ],
 "metadata": {
  "kernelspec": {
   "display_name": "Python 3 (ipykernel)",
   "language": "python",
   "name": "python3"
  },
  "language_info": {
   "codemirror_mode": {
    "name": "ipython",
    "version": 3
   },
   "file_extension": ".py",
   "mimetype": "text/x-python",
   "name": "python",
   "nbconvert_exporter": "python",
   "pygments_lexer": "ipython3",
   "version": "3.9.12"
  }
 },
 "nbformat": 4,
 "nbformat_minor": 5
}
