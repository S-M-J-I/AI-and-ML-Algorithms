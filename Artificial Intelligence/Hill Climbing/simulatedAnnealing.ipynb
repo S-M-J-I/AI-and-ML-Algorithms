{
  "nbformat": 4,
  "nbformat_minor": 0,
  "metadata": {
    "colab": {
      "provenance": []
    },
    "kernelspec": {
      "name": "python3",
      "display_name": "Python 3"
    },
    "language_info": {
      "name": "python"
    }
  },
  "cells": [
    {
      "cell_type": "code",
      "source": [
        "start_state = [[3, 1, 2], \n",
        "               [6, 4, 5], \n",
        "               [0, 7, 8]]\n",
        "\n",
        "# start_state = [[3, 1, 2], \n",
        "#                [6, 4, 0], \n",
        "#                [7, 8, 5]]\n",
        "\n",
        "goal_state = [[0, 1, 2],\n",
        "                [3, 4, 5],\n",
        "                [6, 7, 8]]"
      ],
      "metadata": {
        "id": "4Nqu_kNZSiQw"
      },
      "execution_count": null,
      "outputs": []
    },
    {
      "cell_type": "code",
      "source": [
        "import copy\n",
        "import math\n",
        "import random"
      ],
      "metadata": {
        "id": "ICQ-Gi0eSlJ6"
      },
      "execution_count": null,
      "outputs": []
    },
    {
      "cell_type": "code",
      "source": [
        "def schedule(t):\n",
        "    if t == 500:\n",
        "        return 0\n",
        "    else:\n",
        "        return 500 - t\n",
        "\n",
        "def swap(state, row1, col1, row2, col2):\n",
        "    new_state = copy.deepcopy(state)\n",
        "    new_state[row1][col1], new_state[row2][col2] = new_state[row2][col2], new_state[row1][col1]\n",
        "    return new_state\n",
        "\n",
        "def random_successor(state):\n",
        "    succesors = []\n",
        "    for row in range(3):\n",
        "        for col in range(3):\n",
        "            if state[row][col] == 0:\n",
        "                if row > 0:\n",
        "                    succesors.append(swap(state, row, col, row - 1, col))\n",
        "                if row < 2:\n",
        "                    succesors.append(swap(state, row, col, row + 1, col))\n",
        "                if col > 0:\n",
        "                    succesors.append(swap(state, row, col, row, col - 1))\n",
        "                if col < 2:\n",
        "                    succesors.append(swap(state, row, col, row, col + 1))\n",
        "    return random.choice(succesors)"
      ],
      "metadata": {
        "id": "es3aOCehSqMN"
      },
      "execution_count": null,
      "outputs": []
    },
    {
      "cell_type": "markdown",
      "source": [
        "# **Simulated Annealing with manhattan distance**"
      ],
      "metadata": {
        "id": "lz9dd575TJo5"
      }
    },
    {
      "cell_type": "code",
      "source": [
        "def heuristic_manhattan(state):\n",
        "    h = 0\n",
        "    for row in range(3):\n",
        "        for col in range(3):\n",
        "            for row_goal in range(3):\n",
        "                for col_goal in range(3):\n",
        "                    if state[row][col] == goal_state[row_goal][col_goal]:\n",
        "                        h += abs(row - row_goal) + abs(col - col_goal)\n",
        "    return h\n",
        "\n",
        "def simulate_annealing_manhattan(start_state):\n",
        "    curr = start_state\n",
        "    itr = 0\n",
        "    for t in range(1000):\n",
        "        itr += 1\n",
        "        T = schedule(t)\n",
        "        if T == 0:\n",
        "            return curr, itr\n",
        "        neighbor = random_successor(curr)\n",
        "        #print(neighbor, heuristic_manhattan(neighbor))\n",
        "        delta_e = heuristic_manhattan(curr) - heuristic_manhattan(neighbor) \n",
        "        # curr - neighbor as I am considering heuristic value as cost\n",
        "        if delta_e > 0:\n",
        "            curr = neighbor\n",
        "        else:\n",
        "            x = random.uniform(0, 1)\n",
        "            if x < math.exp(delta_e / T):\n",
        "                curr = neighbor\n",
        "            else:\n",
        "                curr = curr\n",
        "    return curr, itr"
      ],
      "metadata": {
        "id": "031sFSqyTS_E"
      },
      "execution_count": null,
      "outputs": []
    },
    {
      "cell_type": "code",
      "source": [
        "print('Before simulated annealing with manhattan tiles:')\n",
        "print(start_state[0])\n",
        "print(start_state[1])\n",
        "print(start_state[2])\n",
        "print('Heuristic:', heuristic_manhattan(start_state))\n",
        "\n",
        "print('After simulated annealing with manhattan tiles:')\n",
        "curr, itr = simulate_annealing_manhattan(start_state)\n",
        "print(curr[0])\n",
        "print(curr[1])\n",
        "print(curr[2])\n",
        "print('Heuristic:', heuristic_manhattan(curr))\n",
        "print('Iterations:', itr)"
      ],
      "metadata": {
        "colab": {
          "base_uri": "https://localhost:8080/"
        },
        "id": "xV6czSt3UMZR",
        "outputId": "5469cda3-405c-4842-971f-93f3c9891405"
      },
      "execution_count": null,
      "outputs": [
        {
          "output_type": "stream",
          "name": "stdout",
          "text": [
            "Before simulated annealing with manhattan tiles:\n",
            "[3, 1, 2]\n",
            "[6, 4, 5]\n",
            "[0, 7, 8]\n",
            "Heuristic: 4\n",
            "After simulated annealing with manhattan tiles:\n",
            "[5, 3, 2]\n",
            "[8, 4, 0]\n",
            "[6, 7, 1]\n",
            "Heuristic: 14\n",
            "Iterations: 501\n"
          ]
        }
      ]
    },
    {
      "cell_type": "markdown",
      "source": [
        "# **Simulated Annealing with misplace tiles**"
      ],
      "metadata": {
        "id": "fNOeOSjbS0x8"
      }
    },
    {
      "cell_type": "code",
      "source": [
        "def heuristic_misplace(state):\n",
        "    h = 0\n",
        "    for row in range(3):\n",
        "        for col in range(3):\n",
        "            if state[row][col] != goal_state[row][col]:\n",
        "                h += 1\n",
        "    return h\n",
        "\n",
        "def simulate_annealing_misplace(start_state):\n",
        "    curr = start_state\n",
        "    itr = 0\n",
        "    for t in range(1000):\n",
        "        itr += 1\n",
        "        T = schedule(t)\n",
        "        if T == 0:\n",
        "            return curr, itr\n",
        "        neighbor = random_successor(curr)\n",
        "        #print(neighbor, heuristic_misplace(neighbor))\n",
        "        delta_e = heuristic_misplace(curr) - heuristic_misplace(neighbor) \n",
        "        if delta_e > 0:\n",
        "            curr = neighbor\n",
        "        else:\n",
        "            x = random.uniform(0, 1)\n",
        "            if x < math.exp(delta_e / T):\n",
        "                curr = neighbor\n",
        "            else:\n",
        "                curr = curr\n",
        "    return curr, itr"
      ],
      "metadata": {
        "id": "CKt-4LN5QQH6"
      },
      "execution_count": null,
      "outputs": []
    },
    {
      "cell_type": "code",
      "source": [
        "print('Before simulated annealing with misplaced tiles:')\n",
        "print(start_state[0])\n",
        "print(start_state[1])\n",
        "print(start_state[2])\n",
        "print('Heuristic:', heuristic_misplace(start_state))\n",
        "\n",
        "print('After simulated annealing with misplaced tiles:')\n",
        "curr, itr = simulate_annealing_misplace(start_state)\n",
        "print(curr[0])\n",
        "print(curr[1])\n",
        "print(curr[2])\n",
        "print('Heuristic:', heuristic_misplace(curr))\n",
        "print('Iterations:', itr)"
      ],
      "metadata": {
        "colab": {
          "base_uri": "https://localhost:8080/"
        },
        "id": "2ZM4txupSdOb",
        "outputId": "8ca46c69-8b03-4712-c574-525169cf4b34"
      },
      "execution_count": null,
      "outputs": [
        {
          "output_type": "stream",
          "name": "stdout",
          "text": [
            "Before simulated annealing with misplaced tiles:\n",
            "[3, 1, 2]\n",
            "[6, 4, 5]\n",
            "[0, 7, 8]\n",
            "Heuristic: 3\n",
            "After simulated annealing with misplaced tiles:\n",
            "[7, 6, 8]\n",
            "[4, 0, 2]\n",
            "[3, 5, 1]\n",
            "Heuristic: 9\n",
            "Iterations: 501\n"
          ]
        }
      ]
    }
  ]
}