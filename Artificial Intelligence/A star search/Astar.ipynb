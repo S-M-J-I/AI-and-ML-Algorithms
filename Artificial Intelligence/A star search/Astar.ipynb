{
  "nbformat": 4,
  "nbformat_minor": 0,
  "metadata": {
    "colab": {
      "name": "Astar.ipynb",
      "provenance": [],
      "collapsed_sections": []
    },
    "kernelspec": {
      "name": "python3",
      "display_name": "Python 3"
    },
    "language_info": {
      "name": "python"
    }
  },
  "cells": [
    {
      "cell_type": "code",
      "execution_count": 17,
      "metadata": {
        "colab": {
          "base_uri": "https://localhost:8080/"
        },
        "id": "DI5FT-oKKJ7Y",
        "outputId": "f6cd69b6-e862-4cf9-e8ba-e71f7b1a5817"
      },
      "outputs": [
        {
          "output_type": "stream",
          "name": "stdout",
          "text": [
            "Solution path: S-A-G\n",
            "Solution cost: 2\n"
          ]
        }
      ],
      "source": [
        "from queue import PriorityQueue\n",
        "import math\n",
        "import numpy\n",
        "class NodeState:\n",
        "  def __init__(self,nid,parent,g,f):\n",
        "    self.nid = nid\n",
        "    self.parent = parent\n",
        "    self.g = g\n",
        "    self.f = f\n",
        "  def __lt__(self,other):\n",
        "    return self.f<other.f\n",
        "\n",
        "coords = {} \n",
        "adjlist = {} \n",
        "with open('input.txt','r') as f:\n",
        "    V = int(f.readline())\n",
        "    for i in range(V):\n",
        "        strs = f.readline().split()\n",
        "        nid, x, y = strs[0], int(strs[1]), int(strs[2])\n",
        "        coords[nid] = (x, y) \n",
        "        adjlist[nid] = [] \n",
        "\n",
        "    E = int(f.readline())\n",
        "    for i in range(E):\n",
        "        strs = f.readline().split()\n",
        "        n1, n2, c = strs[0], strs[1], int(strs[2])\n",
        "        adjlist[n1].append((n2, c)) \n",
        "    startnid = f.readline().rstrip()\n",
        "    goalnid = f.readline().rstrip()\n",
        "\n",
        "# print('graph')\n",
        "# for nid in adjlist:\n",
        "#     print(nid, coords[nid], '--->',  adjlist[nid])\n",
        "#     for tup in adjlist[nid]:\n",
        "#         print('\\t', tup[0], tup[1])\n",
        "# print('start', startnid, 'goal', goalnid)\n",
        "\n",
        "def heuristic(nid):\n",
        "    x1,y1 = coords[nid]\n",
        "    x2,y2 = coords[goalnid]\n",
        "    m = x1-x2\n",
        "    n = y1-y2\n",
        "    res = math.sqrt((m*m)+(n*n))\n",
        "    return res\n",
        "  \n",
        "# for key in coords:\n",
        "#     re = heuristic(key)\n",
        "#     print(key, \"to G\",re)\n",
        "\n",
        "optimal_path = []\n",
        "flag = 0\n",
        "def AStar(startnid,goalnid):\n",
        "    actual_cost_so_far = 0\n",
        "    minQ = PriorityQueue()\n",
        "    minQ.put(NodeState(startnid,None,0,heuristic(startnid)))\n",
        "    while not minQ.empty():\n",
        "        current = minQ.get() \n",
        "        actual_cost_so_far = current.g\n",
        "        if current.nid == goalnid:\n",
        "            global flag \n",
        "            # as we are calling flag from out side of the function so we need to use global key word so\n",
        "            # that it work as global variablle otherwise it will be a local variable\n",
        "            flag = 1\n",
        "            while current.parent != None:\n",
        "                optimal_path.append(current.nid)\n",
        "                #print(current.nid,end=\"-\")\n",
        "                current = current.parent\n",
        "            optimal_path.append(current.nid)\n",
        "            #print(current.nid)\n",
        "            break\n",
        "        for tuplee in adjlist[current.nid]:\n",
        "            n1,cost = tuplee[0],tuplee[1]\n",
        "            g = current.g + cost\n",
        "            f = g+heuristic(n1)\n",
        "            child = NodeState(n1,current,g,f)\n",
        "            minQ.put(child)\n",
        "    return actual_cost_so_far\n",
        "\n",
        "x = AStar(startnid, goalnid)\n",
        "if flag == 1:\n",
        "    print(\"Solution path: \", end='')\n",
        "    result = numpy.flip(optimal_path)\n",
        "    for i in result:\n",
        "        print(i,end=\"\")\n",
        "        if(i!=goalnid):\n",
        "            print(\"-\",end=\"\")\n",
        "    print(\"\\nSolution cost: \", end='')\n",
        "    print(x)\n",
        "else:\n",
        "    print(\"There is no solution\")"
      ]
    },
    {
      "cell_type": "code",
      "source": [
        ""
      ],
      "metadata": {
        "id": "GhcM1bkmvKHi"
      },
      "execution_count": null,
      "outputs": []
    }
  ]
}