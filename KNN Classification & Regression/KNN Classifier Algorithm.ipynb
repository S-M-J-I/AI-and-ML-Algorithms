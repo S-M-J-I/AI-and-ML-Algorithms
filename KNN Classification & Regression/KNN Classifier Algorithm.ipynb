{
 "cells": [
  {
   "cell_type": "code",
   "execution_count": 187,
   "id": "49b7a7d5",
   "metadata": {},
   "outputs": [],
   "source": [
    "import numpy as np\n",
    "import pandas as pd\n",
    "import matplotlib.pyplot as plt"
   ]
  },
  {
   "cell_type": "markdown",
   "id": "73a76f1a",
   "metadata": {},
   "source": [
    "## Data Partition\n",
    "\n",
    "60 Train, 20 Validation, 20 Test\n",
    "*or*\n",
    "75 Train, 15 Validation, 15 Test"
   ]
  },
  {
   "cell_type": "markdown",
   "id": "b7f11106",
   "metadata": {},
   "source": [
    "## KNN\n",
    "\n",
    "k=1,3,5,7..odd\n",
    "\n",
    "take odd numbers as there will be no 50-50 possibility"
   ]
  },
  {
   "cell_type": "markdown",
   "id": "3675ad19",
   "metadata": {},
   "source": [
    "### Read the dataset into numpy array"
   ]
  },
  {
   "cell_type": "code",
   "execution_count": 188,
   "id": "686e0956",
   "metadata": {},
   "outputs": [
    {
     "data": {
      "text/plain": [
       "array([[5.1, 3.5, 1.4, 0.2, 0. ],\n",
       "       [4.9, 3. , 1.4, 0.2, 0. ],\n",
       "       [4.7, 3.2, 1.3, 0.2, 0. ],\n",
       "       [4.6, 3.1, 1.5, 0.2, 0. ],\n",
       "       [5. , 3.6, 1.4, 0.2, 0. ],\n",
       "       [5.4, 3.9, 1.7, 0.4, 0. ],\n",
       "       [4.6, 3.4, 1.4, 0.3, 0. ],\n",
       "       [5. , 3.4, 1.5, 0.2, 0. ],\n",
       "       [4.4, 2.9, 1.4, 0.2, 0. ],\n",
       "       [4.9, 3.1, 1.5, 0.1, 0. ]])"
      ]
     },
     "execution_count": 188,
     "metadata": {},
     "output_type": "execute_result"
    }
   ],
   "source": [
    "data = np.genfromtxt(\"../Dataset/iris.csv\", delimiter=',')\n",
    "data[:10]"
   ]
  },
  {
   "cell_type": "code",
   "execution_count": 189,
   "id": "68fb5152",
   "metadata": {},
   "outputs": [],
   "source": [
    "my_list = data.tolist()"
   ]
  },
  {
   "cell_type": "markdown",
   "id": "02c1809f",
   "metadata": {},
   "source": [
    "### Randomize the order of arrangement of data"
   ]
  },
  {
   "cell_type": "code",
   "execution_count": 190,
   "id": "8c657f42",
   "metadata": {},
   "outputs": [],
   "source": [
    "import random\n",
    "random.shuffle(my_list)"
   ]
  },
  {
   "cell_type": "code",
   "execution_count": 191,
   "id": "00d3a58a",
   "metadata": {},
   "outputs": [
    {
     "data": {
      "text/plain": [
       "[[6.2, 3.4, 5.4, 2.3, 2.0],\n",
       " [5.4, 3.0, 4.5, 1.5, 1.0],\n",
       " [5.1, 3.3, 1.7, 0.5, 0.0],\n",
       " [7.7, 2.8, 6.7, 2.0, 2.0],\n",
       " [5.4, 3.4, 1.5, 0.4, 0.0],\n",
       " [5.7, 2.5, 5.0, 2.0, 2.0],\n",
       " [6.7, 3.1, 5.6, 2.4, 2.0],\n",
       " [7.7, 3.8, 6.7, 2.2, 2.0],\n",
       " [5.6, 2.5, 3.9, 1.1, 1.0],\n",
       " [6.0, 2.2, 5.0, 1.5, 2.0]]"
      ]
     },
     "execution_count": 191,
     "metadata": {},
     "output_type": "execute_result"
    }
   ],
   "source": [
    "my_list[:10]"
   ]
  },
  {
   "cell_type": "markdown",
   "id": "e74b79c8",
   "metadata": {},
   "source": [
    "### Add the lists to Train, Validation, and Test lists"
   ]
  },
  {
   "cell_type": "code",
   "execution_count": 192,
   "id": "2fb007ca",
   "metadata": {},
   "outputs": [],
   "source": [
    "train = []\n",
    "valid = []\n",
    "test = []\n",
    "\n",
    "for item in my_list:\n",
    "    test_val = random.uniform(0, 1.0)\n",
    "    if test_val <= 0.7:\n",
    "        train.append(item)\n",
    "    elif test_val <= 0.85:\n",
    "        valid.append(item)\n",
    "    else:\n",
    "        test.append(item)"
   ]
  },
  {
   "cell_type": "code",
   "execution_count": 193,
   "id": "1d1e1802",
   "metadata": {},
   "outputs": [
    {
     "data": {
      "text/plain": [
       "(99, 29, 22)"
      ]
     },
     "execution_count": 193,
     "metadata": {},
     "output_type": "execute_result"
    }
   ],
   "source": [
    "len(train), len(valid), len(test)"
   ]
  },
  {
   "cell_type": "markdown",
   "id": "56fb66d5",
   "metadata": {},
   "source": [
    "# KNN Classification"
   ]
  },
  {
   "cell_type": "code",
   "execution_count": 227,
   "id": "c83c488e",
   "metadata": {},
   "outputs": [],
   "source": [
    "def KNNAlgorithm(train, valid, K=5):\n",
    "    correct = 0\n",
    "    \n",
    "    for validation in valid:\n",
    "        distances_list = []\n",
    "        samples = []\n",
    "        counts = []\n",
    "        for training in train:\n",
    "            euclidean = sum([(p-q) ** 2 for p, q in zip(validation[:-1], training[:-1])])\n",
    "            distances_list.append((euclidean, training))\n",
    "        distances_list.sort(key = lambda dist : dist[0])\n",
    "        samples = distances_list[:K]\n",
    "    \n",
    "        # for all samples upto K, find the max class from the data-set\n",
    "        for sample in samples:\n",
    "            data = sample[1]\n",
    "            data = data[-1:]\n",
    "            counts.append(data[0])\n",
    "    \n",
    "        classifier = max(set(counts), key = counts.count)\n",
    "        \n",
    "        if validation[-1:][0] == classifier:\n",
    "            correct += 1\n",
    "    \n",
    "    return (correct/len(valid)) * 100"
   ]
  },
  {
   "cell_type": "code",
   "execution_count": 226,
   "id": "3cc50c0a",
   "metadata": {},
   "outputs": [
    {
     "name": "stdout",
     "output_type": "stream",
     "text": [
      "1 = 93.10344827586206\n",
      "3 = 93.10344827586206\n",
      "5 = 93.10344827586206\n",
      "10 = 93.10344827586206\n",
      "15 = 93.10344827586206\n",
      "20 = 93.10344827586206\n",
      "25 = 96.55172413793103\n",
      "30 = 96.55172413793103\n",
      "35 = 96.55172413793103\n",
      "40 = 96.55172413793103\n",
      "45 = 96.55172413793103\n",
      "50 = 93.10344827586206\n",
      "55 = 93.10344827586206\n",
      "60 = 93.10344827586206\n",
      "65 = 89.65517241379311\n",
      "70 = 79.3103448275862\n",
      "75 = 48.275862068965516\n",
      "80 = 48.275862068965516\n",
      "85 = 48.275862068965516\n",
      "90 = 44.827586206896555\n",
      "95 = 44.827586206896555\n"
     ]
    }
   ],
   "source": [
    "print(f\"{1} = {KNNAlgorithm(train,valid,1)}\")\n",
    "print(f\"{3} = {KNNAlgorithm(train,valid,3)}\")\n",
    "\n",
    "for i in range(5,100,5):\n",
    "    print(f\"{i} = {KNNAlgorithm(train,valid,i)}\")"
   ]
  },
  {
   "cell_type": "code",
   "execution_count": 224,
   "id": "f926dcd9",
   "metadata": {},
   "outputs": [
    {
     "data": {
      "text/plain": [
       "95.45454545454545"
      ]
     },
     "execution_count": 224,
     "metadata": {},
     "output_type": "execute_result"
    }
   ],
   "source": [
    "KNNAlgorithm(train, test, 30)"
   ]
  },
  {
   "cell_type": "markdown",
   "id": "e695b345",
   "metadata": {},
   "source": [
    "### K = 30 provides highest validation accuracy.\n",
    "### This K value gives 95.5% in the test accuracy"
   ]
  },
  {
   "cell_type": "code",
   "execution_count": null,
   "id": "81d6f2f3",
   "metadata": {},
   "outputs": [],
   "source": []
  }
 ],
 "metadata": {
  "kernelspec": {
   "display_name": "Python 3 (ipykernel)",
   "language": "python",
   "name": "python3"
  },
  "language_info": {
   "codemirror_mode": {
    "name": "ipython",
    "version": 3
   },
   "file_extension": ".py",
   "mimetype": "text/x-python",
   "name": "python",
   "nbconvert_exporter": "python",
   "pygments_lexer": "ipython3",
   "version": "3.9.12"
  }
 },
 "nbformat": 4,
 "nbformat_minor": 5
}
